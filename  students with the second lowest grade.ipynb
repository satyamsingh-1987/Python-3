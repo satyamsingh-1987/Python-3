{
 "cells": [
  {
   "cell_type": "markdown",
   "id": "eebfb19a",
   "metadata": {},
   "source": [
    "# Given the names and grades for each student in a class of  students, store them in a nested list and print the name(s) of any student(s) having the second lowest grade.\n",
    "\n",
    "Note: If there are multiple students with the second lowest grade, order their names alphabetically and print each name on a new line.\n",
    "\n",
    "Example\n",
    "\n",
    "The ordered list of scores is , so the second lowest score is . There are two students with that score: . Ordered alphabetically, the names are printed as:\n",
    "\n",
    "alpha\n",
    "beta\n",
    "Input Format\n",
    "\n",
    "The first line contains an integer, , the number of students.\n",
    "The  subsequent lines describe each student over  lines.\n",
    "- The first line contains a student's name.\n",
    "- The second line contains their grade.\n",
    "\n",
    "Constraints\n",
    "\n",
    "There will always be one or more students having the second lowest grade.\n",
    "Output Format\n",
    "\n",
    "Print the name(s) of any student(s) having the second lowest grade in. If there are multiple students, order their names alphabetically and print each one on a new line.\n",
    "\n",
    "Sample Input 0\n",
    "\n",
    "5   \n",
    "Harry   \n",
    "37.21   \n",
    "Berry   \n",
    "37.21   \n",
    "Tina    \n",
    "37.2   \n",
    "Akriti   \n",
    "41   \n",
    "Harsh    \n",
    "39   \n",
    "Sample Output 0   \n",
    "   \n",
    "Berry    \n",
    "Harry    \n",
    "Explanation 0    \n",
    "\n",
    "There are  students in this class whose names and grades are assembled to build the following list:\n",
    "\n",
    "python students = [['Harry', 37.21], ['Berry', 37.21], ['Tina', 37.2], ['Akriti', 41], ['Harsh', 39]]\n",
    "\n",
    "The lowest grade of  belongs to Tina. The second lowest grade of  belongs to both Harry and Berry, so we order their names alphabetically and print each name on a new line."
   ]
  },
  {
   "cell_type": "code",
   "execution_count": 80,
   "id": "bd2eba93",
   "metadata": {},
   "outputs": [
    {
     "name": "stdout",
     "output_type": "stream",
     "text": [
      "5\n",
      "Harry\n",
      "37.21\n",
      "Berry\n",
      "37.21\n",
      "Tina\n",
      "37.2\n",
      "Akriti\n",
      "41\n",
      "Harsh\n",
      "39\n",
      "Berry\n",
      "Harry\n"
     ]
    }
   ],
   "source": [
    "l=[]\n",
    "if __name__ == '__main__':\n",
    "    for _ in range(int(input())):\n",
    "        name = input()\n",
    "        score = float(input())\n",
    "        l.append([name,score])\n",
    "\n",
    "for j in range(len(l)):\n",
    "    for i in range(len(l)-1):\n",
    "        if l[i][1] > l[i+1][1]:\n",
    "            a=l[i]\n",
    "            l[i]=l[i+1]\n",
    "            l[i+1]=a\n",
    "\n",
    "l_last=l[0]\n",
    "l_second_last=[]\n",
    "for k in range(len(l)-1):\n",
    "    if l[k][1] == l[k+1][1]:\n",
    "        l_last.append(l[k+1])\n",
    "    else:\n",
    "        l_second_last.append(l[k+1])\n",
    "        break\n",
    "for m in range(k+1,len(l)-1):\n",
    "    if l[m][1] == l[m+1][1]:\n",
    "        l_second_last.append(l[m+1])\n",
    "    else:\n",
    "        break\n",
    "\n",
    "l_second_last.sort()\n",
    "for n in range(len(l_second_last)):\n",
    "    print(l_second_last[n][0])\n"
   ]
  },
  {
   "cell_type": "code",
   "execution_count": null,
   "id": "c21ca8c0",
   "metadata": {},
   "outputs": [],
   "source": []
  },
  {
   "cell_type": "code",
   "execution_count": null,
   "id": "333b3e99",
   "metadata": {},
   "outputs": [],
   "source": []
  },
  {
   "cell_type": "code",
   "execution_count": null,
   "id": "1df293d2",
   "metadata": {},
   "outputs": [],
   "source": []
  },
  {
   "cell_type": "code",
   "execution_count": null,
   "id": "e1fc7e3e",
   "metadata": {},
   "outputs": [],
   "source": []
  },
  {
   "cell_type": "code",
   "execution_count": null,
   "id": "d8307ce9",
   "metadata": {},
   "outputs": [],
   "source": []
  },
  {
   "cell_type": "code",
   "execution_count": null,
   "id": "a1939f6c",
   "metadata": {},
   "outputs": [],
   "source": []
  }
 ],
 "metadata": {
  "kernelspec": {
   "display_name": "Python 3",
   "language": "python",
   "name": "python3"
  },
  "language_info": {
   "codemirror_mode": {
    "name": "ipython",
    "version": 3
   },
   "file_extension": ".py",
   "mimetype": "text/x-python",
   "name": "python",
   "nbconvert_exporter": "python",
   "pygments_lexer": "ipython3",
   "version": "3.8.8"
  }
 },
 "nbformat": 4,
 "nbformat_minor": 5
}
