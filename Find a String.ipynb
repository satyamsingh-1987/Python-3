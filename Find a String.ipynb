{
 "cells": [
  {
   "cell_type": "markdown",
   "id": "cda9a5ed",
   "metadata": {},
   "source": [
    "The user enters a string and a substring. You have to print the number of times that the substring occurs in the given string. String traversal will take place from left to right, not from right to left.\n",
    "\n",
    "\n",
    "Input Format:\n",
    "The first line of input contains the original string. The next line contains the substring.\n",
    "   \n",
    "\n",
    "Output Format:\n",
    "Output the integer number indicating the total number of occurrences of the substring in the original string.\n",
    "\n",
    "Sample Input:    \n",
    "ABCDCDC\n",
    "CDC\n",
    "\n",
    "\n",
    "Sample Output:    \n",
    "2"
   ]
  },
  {
   "cell_type": "code",
   "execution_count": 36,
   "id": "cb375199",
   "metadata": {},
   "outputs": [
    {
     "name": "stdout",
     "output_type": "stream",
     "text": [
      "TestCaseTestCase\n",
      "CaseT\n",
      "1\n"
     ]
    }
   ],
   "source": [
    "def count_substring(string, sub_string):\n",
    "    c=0\n",
    "    for i in range(len(string)):\n",
    "        if string[i]==sub_string[0]:\n",
    "            k=i\n",
    "            search = False\n",
    "            for j in range(len(sub_string)):\n",
    "                if string[k] == sub_string[j]:\n",
    "                    search = True\n",
    "                else:\n",
    "                    search = False\n",
    "                    break\n",
    "                if (k == (len(string)-1)) and (j < (len(sub_string)-1)):\n",
    "                    search = False\n",
    "                    break\n",
    "                else:\n",
    "                    k=k+1\n",
    "                \n",
    "            if search == True:\n",
    "                c=c+1\n",
    "                                    \n",
    "                    \n",
    "    return c\n",
    "\n",
    "if __name__ == '__main__':\n",
    "    string = input().strip()\n",
    "    sub_string = input().strip()\n",
    "    \n",
    "    count = count_substring(string, sub_string)\n",
    "    print(count)"
   ]
  }
 ],
 "metadata": {
  "kernelspec": {
   "display_name": "Python 3",
   "language": "python",
   "name": "python3"
  },
  "language_info": {
   "codemirror_mode": {
    "name": "ipython",
    "version": 3
   },
   "file_extension": ".py",
   "mimetype": "text/x-python",
   "name": "python",
   "nbconvert_exporter": "python",
   "pygments_lexer": "ipython3",
   "version": "3.8.8"
  }
 },
 "nbformat": 4,
 "nbformat_minor": 5
}
